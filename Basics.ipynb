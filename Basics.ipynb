{
 "cells": [
  {
   "cell_type": "code",
   "execution_count": 2,
   "metadata": {},
   "outputs": [
    {
     "name": "stdout",
     "output_type": "stream",
     "text": [
      "['1994,1,1,6,8096', '1994,1,2,7,7772', '1994,1,3,1,10142', '1994,1,4,2,11248', '1994,1,5,3,11053', '1994,1,6,4,11406', '1994,1,7,5,11251', '1994,1,8,6,8653', '1994,1,9,7,7910']\n"
     ]
    }
   ],
   "source": [
    "file = open(\"US_births_1994-2003_CDC_NCHS.csv\", \"r\")\n",
    "file = file.read()\n",
    "file = file.split(\"\\n\")\n",
    "\n",
    "print(file[1:10])\n"
   ]
  },
  {
   "cell_type": "code",
   "execution_count": 3,
   "metadata": {},
   "outputs": [
    {
     "name": "stdout",
     "output_type": "stream",
     "text": [
      "[[1994, 1, 1, 6, 8096], [1994, 1, 2, 7, 7772], [1994, 1, 3, 1, 10142], [1994, 1, 4, 2, 11248], [1994, 1, 5, 3, 11053], [1994, 1, 6, 4, 11406], [1994, 1, 7, 5, 11251], [1994, 1, 8, 6, 8653], [1994, 1, 9, 7, 7910], [1994, 1, 10, 1, 10498]]\n"
     ]
    }
   ],
   "source": [
    "def read_csv(name):\n",
    "    file = open(name, \"r\")\n",
    "    file = file.read()\n",
    "    string_list = []\n",
    "    string_list = file.split(\"\\n\")\n",
    "    final_list = []\n",
    "    string_fields =[]\n",
    "     \n",
    "    for i in string_list[1:len(string_list)]:\n",
    "        i = i.split(',')\n",
    "        l = []\n",
    "        for m in range(0,5):\n",
    "            t = i[m]\n",
    "            t = int(t)\n",
    "            l.append(t)\n",
    "            \n",
    "        final_list.append(l)\n",
    "   \n",
    "    return final_list\n",
    "cdc_list = read_csv(\"US_births_1994-2003_CDC_NCHS.csv\")\n",
    "print(cdc_list[0:10])\n"
   ]
  },
  {
   "cell_type": "code",
   "execution_count": 4,
   "metadata": {},
   "outputs": [
    {
     "name": "stdout",
     "output_type": "stream",
     "text": [
      "{1: 3232517, 2: 3018140, 3: 3322069, 4: 3185314, 5: 3350907, 6: 3296530, 7: 3498783, 8: 3525858, 9: 3439698, 10: 3378814, 11: 3171647, 12: 3301860}\n"
     ]
    }
   ],
   "source": [
    "def month_births(data):\n",
    "    births_per_month = {}\n",
    "    # the second[1] column is of month\n",
    "    for i in data:\n",
    "        month = i[1]\n",
    "        number_of_people = i[4]\n",
    "        if month not in births_per_month:\n",
    "            t = 0\n",
    "            births_per_month[month] = t\n",
    "        if month in births_per_month:\n",
    "            t = births_per_month[month]\n",
    "            j = t + number_of_people\n",
    "            births_per_month[month] = j\n",
    "        \n",
    "\n",
    "    print(births_per_month) \n",
    "month_births(cdc_list) "
   ]
  },
  {
   "cell_type": "code",
   "execution_count": 6,
   "metadata": {},
   "outputs": [
    {
     "name": "stdout",
     "output_type": "stream",
     "text": [
      "{6: 4562111, 7: 4079723, 1: 5789166, 2: 6446196, 3: 6322855, 4: 6288429, 5: 6233657}\n"
     ]
    }
   ],
   "source": [
    "def dow_births(list):\n",
    "    day_of_week = {}\n",
    "    #it's the third column index wise\n",
    "    for f in list:\n",
    "        day = f[3]\n",
    "        number = f[4]\n",
    "        if day not in day_of_week:\n",
    "            \n",
    "            day_of_week[day] = 0\n",
    "        if day in day_of_week:\n",
    "            k = day_of_week[day]\n",
    "            number = number + k\n",
    "            day_of_week[day] = number\n",
    "    return day_of_week        \n",
    "cdc_day_births = dow_births(cdc_list)        \n",
    "print(cdc_day_births)            \n",
    "    "
   ]
  },
  {
   "cell_type": "code",
   "execution_count": 11,
   "metadata": {},
   "outputs": [
    {
     "name": "stdout",
     "output_type": "stream",
     "text": [
      "{1994: 3952767, 1995: 3899589, 1996: 3891494, 1997: 3880894, 1998: 3941553, 1999: 3959417, 2000: 4058814, 2001: 4025933, 2002: 4021726, 2003: 4089950}\n",
      "{1: 3232517, 2: 3018140, 3: 3322069, 4: 3185314, 5: 3350907, 6: 3296530, 7: 3498783, 8: 3525858, 9: 3439698, 10: 3378814, 11: 3171647, 12: 3301860}\n",
      "{1: 1276557, 2: 1288739, 3: 1304499, 4: 1288154, 5: 1299953, 6: 1304474, 7: 1310459, 8: 1312297, 9: 1303292, 10: 1320764, 11: 1314361, 12: 1318437, 13: 1277684, 14: 1320153, 15: 1319171, 16: 1315192, 17: 1324953, 18: 1326855, 19: 1318727, 20: 1324821, 21: 1322897, 22: 1317381, 23: 1293290, 24: 1288083, 25: 1272116, 26: 1284796, 27: 1294395, 28: 1307685, 29: 1223161, 30: 1202095, 31: 746696}\n",
      "{6: 4562111, 7: 4079723, 1: 5789166, 2: 6446196, 3: 6322855, 4: 6288429, 5: 6233657}\n"
     ]
    }
   ],
   "source": [
    "def calc_counts(data, column):\n",
    "    dictionary = {}\n",
    "    for t in data:\n",
    "        column_data = t[column]\n",
    "        birthnumber =  t[4]\n",
    "        \n",
    "        if column_data not in dictionary:\n",
    "            \n",
    "            \n",
    "            dictionary[column_data] = 0\n",
    "            \n",
    "        \n",
    "        if column_data in dictionary:\n",
    "            \n",
    "            birthnumber = birthnumber + dictionary[column_data]\n",
    "            dictionary[column_data] = birthnumber\n",
    "            \n",
    "    return dictionary\n",
    "cdc_year_births = calc_counts(cdc_list, 0)\n",
    "\n",
    "cdc_month_births = calc_counts(cdc_list, 1)\n",
    "\n",
    "cdc_dom_births = calc_counts(cdc_list, 2)\n",
    "\n",
    "cdc_dow_births = calc_counts(cdc_list, 3)\n",
    "\n",
    "print(cdc_year_births)\n",
    "##\n",
    "print(cdc_month_births)\n",
    "##\n",
    "print(cdc_dom_births)\n",
    "##\n",
    "print(cdc_dow_births)"
   ]
  },
  {
   "cell_type": "code",
   "execution_count": null,
   "metadata": {
    "collapsed": true
   },
   "outputs": [],
   "source": []
  },
  {
   "cell_type": "code",
   "execution_count": null,
   "metadata": {
    "collapsed": true
   },
   "outputs": [],
   "source": []
  },
  {
   "cell_type": "code",
   "execution_count": null,
   "metadata": {
    "collapsed": true
   },
   "outputs": [],
   "source": []
  }
 ],
 "metadata": {
  "anaconda-cloud": {},
  "kernelspec": {
   "display_name": "Python 3",
   "language": "python",
   "name": "python3"
  },
  "language_info": {
   "codemirror_mode": {
    "name": "ipython",
    "version": 3
   },
   "file_extension": ".py",
   "mimetype": "text/x-python",
   "name": "python",
   "nbconvert_exporter": "python",
   "pygments_lexer": "ipython3",
   "version": "3.7.0"
  }
 },
 "nbformat": 4,
 "nbformat_minor": 1
}
